{
 "cells": [
  {
   "cell_type": "markdown",
   "id": "75d3792f",
   "metadata": {},
   "source": [
    "# 📊 Quick Data Analysis Template\n",
    "\n",
    "This notebook provides a minimal starter for data exploration."
   ]
  },
  {
   "cell_type": "code",
   "execution_count": 36,
   "id": "4c8cead3",
   "metadata": {},
   "outputs": [
    {
     "name": "stdout",
     "output_type": "stream",
     "text": [
      "The autoreload extension is already loaded. To reload it, use:\n",
      "  %reload_ext autoreload\n"
     ]
    }
   ],
   "source": [
    "%load_ext autoreload\n",
    "%autoreload 2"
   ]
  },
  {
   "cell_type": "code",
   "execution_count": 37,
   "id": "c37927fc",
   "metadata": {},
   "outputs": [],
   "source": [
    "import pandas as pd\n",
    "import numpy as np\n",
    "import matplotlib.pyplot as plt\n",
    "import seaborn as sns\n",
    "import json\n",
    "\n",
    "sns.set(style='whitegrid')\n",
    "%matplotlib inline\n"
   ]
  },
  {
   "cell_type": "code",
   "execution_count": 38,
   "id": "4096f018",
   "metadata": {},
   "outputs": [],
   "source": [
    "from utils import test_imports"
   ]
  },
  {
   "cell_type": "code",
   "execution_count": 39,
   "id": "3d30a8f9",
   "metadata": {},
   "outputs": [
    {
     "data": {
      "text/plain": [
       "'with open(\"/Users/leonardrosen/Documents/Projects/mtg/data/raw/AllPrintings.json\", encoding=\\'utf-8\\') as f:\\n    all_printings = json.load(f)\\n    all_printings[\\'data\\']'"
      ]
     },
     "execution_count": 39,
     "metadata": {},
     "output_type": "execute_result"
    }
   ],
   "source": [
    "\"\"\"with open(\"/Users/leonardrosen/Documents/Projects/mtg/data/raw/AllPrintings.json\", encoding='utf-8') as f:\n",
    "    all_printings = json.load(f)\n",
    "    all_printings['data']\"\"\""
   ]
  },
  {
   "cell_type": "code",
   "execution_count": 40,
   "id": "cea14873",
   "metadata": {},
   "outputs": [
    {
     "data": {
      "text/plain": [
       "{'artist': 'Lius Lasahido',\n",
       " 'artistIds': ['0a0e9093-ce44-4a69-93a7-09b63e7c330d'],\n",
       " 'availability': ['paper'],\n",
       " 'borderColor': 'black',\n",
       " 'colorIdentity': ['U'],\n",
       " 'colors': ['U'],\n",
       " 'convertedManaCost': 7.0,\n",
       " 'edhrecRank': 9969,\n",
       " 'edhrecSaltiness': 0.1,\n",
       " 'finishes': ['foil'],\n",
       " 'flavorText': 'He answers questions as readily as he asks them, but his answer is always \"no.\"',\n",
       " 'foreignData': [],\n",
       " 'frameVersion': '2015',\n",
       " 'hasFoil': True,\n",
       " 'hasNonFoil': False,\n",
       " 'identifiers': {'cardKingdomFoilId': '206447',\n",
       "  'cardsphereFoilId': '37481',\n",
       "  'deckboxId': '30780',\n",
       "  'mcmId': '287630',\n",
       "  'mtgjsonV4Id': '7bf63c97-27da-516c-b722-75299370a28d',\n",
       "  'scryfallCardBackId': '0aeebaf5-8c7d-4636-9e82-8c27447861f7',\n",
       "  'scryfallId': 'f6555d1f-d4cf-41f7-99d3-88fd53e75457',\n",
       "  'scryfallIllustrationId': '414c0cef-4fd9-4515-b602-91c206c33a3d',\n",
       "  'scryfallOracleId': 'd4246e4d-390d-4925-a5a8-89cd096a237c',\n",
       "  'tcgplayerProductId': '111268'},\n",
       " 'isPromo': True,\n",
       " 'isReprint': True,\n",
       " 'isStarter': True,\n",
       " 'keywords': ['Flying', 'Hexproof'],\n",
       " 'language': 'English',\n",
       " 'layout': 'normal',\n",
       " 'legalities': {'alchemy': 'Legal',\n",
       "  'brawl': 'Legal',\n",
       "  'commander': 'Legal',\n",
       "  'duel': 'Legal',\n",
       "  'future': 'Legal',\n",
       "  'gladiator': 'Legal',\n",
       "  'historic': 'Legal',\n",
       "  'legacy': 'Legal',\n",
       "  'modern': 'Legal',\n",
       "  'oathbreaker': 'Legal',\n",
       "  'penny': 'Legal',\n",
       "  'pioneer': 'Legal',\n",
       "  'standard': 'Legal',\n",
       "  'standardbrawl': 'Legal',\n",
       "  'timeless': 'Legal',\n",
       "  'vintage': 'Legal'},\n",
       " 'manaCost': '{5}{U}{U}',\n",
       " 'manaValue': 7.0,\n",
       " 'name': 'Sphinx of the Final Word',\n",
       " 'number': '63s',\n",
       " 'power': '5',\n",
       " 'printings': ['FDN', 'OGW', 'POGW'],\n",
       " 'promoTypes': ['setpromo', 'prerelease', 'datestamped'],\n",
       " 'purchaseUrls': {'cardKingdomFoil': 'https://mtgjson.com/links/cf9936d3fed16d63',\n",
       "  'tcgplayer': 'https://mtgjson.com/links/f81cadeb87698023'},\n",
       " 'rarity': 'mythic',\n",
       " 'rulings': [{'date': '2024-11-08',\n",
       "   'text': \"A spell or ability that counters spells can still target Sphinx of the Final Word or any other spell that can't be countered. When that spell or ability resolves, the spell won't be countered, but any additional effects of the countering spell or ability will still happen.\"}],\n",
       " 'securityStamp': 'oval',\n",
       " 'setCode': 'POGW',\n",
       " 'subtypes': ['Sphinx'],\n",
       " 'supertypes': [],\n",
       " 'text': \"This spell can't be countered.\\nFlying\\nHexproof (This creature can't be the target of spells or abilities your opponents control.)\\nInstant and sorcery spells you control can't be countered.\",\n",
       " 'toughness': '5',\n",
       " 'type': 'Creature — Sphinx',\n",
       " 'types': ['Creature'],\n",
       " 'uuid': '00010d56-fe38-5e35-8aed-518019aa36a5'}"
      ]
     },
     "execution_count": 40,
     "metadata": {},
     "output_type": "execute_result"
    }
   ],
   "source": [
    "with open(\"/Users/leonardrosen/Documents/Projects/mtg/data/raw/AllIdentifiers.json\", encoding='utf-8') as f:\n",
    "    all_printings = json.load(f)\n",
    "all_printings['data']['00010d56-fe38-5e35-8aed-518019aa36a5']"
   ]
  },
  {
   "cell_type": "code",
   "execution_count": 41,
   "id": "29cef98d",
   "metadata": {},
   "outputs": [
    {
     "data": {
      "text/plain": [
       "Index(['card_id', 'artist', 'artistIds', 'availability', 'borderColor',\n",
       "       'colorIdentity', 'colors', 'convertedManaCost', 'edhrecRank',\n",
       "       'edhrecSaltiness', 'finishes', 'flavorText', 'foreignData',\n",
       "       'frameVersion', 'hasFoil', 'hasNonFoil', 'identifiers', 'isPromo',\n",
       "       'isReprint', 'isStarter', 'keywords', 'language', 'layout',\n",
       "       'legalities', 'manaCost', 'manaValue', 'name', 'number', 'power',\n",
       "       'printings', 'promoTypes', 'purchaseUrls', 'rarity', 'rulings',\n",
       "       'securityStamp', 'setCode', 'subtypes', 'supertypes', 'text',\n",
       "       'toughness', 'type', 'types', 'uuid', 'boosterTypes', 'originalText',\n",
       "       'originalType', 'sourceProducts', 'signature', 'variations',\n",
       "       'isOnlineOnly', 'isReserved', 'relatedCards', 'reverseRelated',\n",
       "       'frameEffects', 'faceConvertedManaCost', 'faceManaValue', 'faceName',\n",
       "       'leadershipSkills', 'otherFaceIds', 'side', 'isOversized',\n",
       "       'isAlternative', 'orientation', 'flavorName', 'originalReleaseDate',\n",
       "       'duelDeck', 'isFullArt', 'isTextless', 'watermark', 'loyalty',\n",
       "       'isGameChanger', 'isFunny', 'isRebalanced', 'originalPrintings',\n",
       "       'subsets', 'isTimeshifted', 'rebalancedPrintings', 'asciiName',\n",
       "       'isStorySpotlight', 'colorIndicator', 'hand', 'life', 'defense',\n",
       "       'attractionLights', 'cardParts', 'faceFlavorName',\n",
       "       'hasAlternativeDeckLimit', 'hasContentWarning'],\n",
       "      dtype='object')"
      ]
     },
     "execution_count": 41,
     "metadata": {},
     "output_type": "execute_result"
    }
   ],
   "source": [
    "df = pd.DataFrame.from_dict(all_printings['data'], orient='index')\n",
    "df.reset_index(inplace=True)\n",
    "df.rename(columns={\"index\": \"card_id\"}, inplace=True)\n",
    "df.columns\n"
   ]
  },
  {
   "cell_type": "code",
   "execution_count": 42,
   "id": "2dc3f395",
   "metadata": {},
   "outputs": [
    {
     "data": {
      "text/plain": [
       "509"
      ]
     },
     "execution_count": 42,
     "metadata": {},
     "output_type": "execute_result"
    }
   ],
   "source": [
    "\n",
    "gamechanger = df['name'][df['isGameChanger'] == True]\n",
    "\n",
    "len(gamechanger)"
   ]
  },
  {
   "cell_type": "code",
   "execution_count": null,
   "id": "661135ca",
   "metadata": {},
   "outputs": [
    {
     "data": {
      "text/plain": [
       "{'foil': {'2025-07-11': 6.99}}"
      ]
     },
     "execution_count": 35,
     "metadata": {},
     "output_type": "execute_result"
    }
   ],
   "source": [
    "\n",
    "with open(\"/Users/leonardrosen/Documents/Projects/mtg/data/raw/AllPricesToday.json\", encoding='utf-8') as f:\n",
    "    all_prices = json.load(f)\n",
    "    #all_prices = pd.DataFrame.from_dict(all_prices['data'], orient='index')\n",
    "\n",
    "#all_prices.reset_index(inplace=True)\n",
    "#all_prices\n",
    "\n",
    "\n",
    "all_prices['data']['00010d56-fe38-5e35-8aed-518019aa36a5']['paper']['cardkingdom']['retail']\n",
    "\n"
   ]
  },
  {
   "cell_type": "code",
   "execution_count": null,
   "id": "c1aaa770",
   "metadata": {},
   "outputs": [],
   "source": []
  }
 ],
 "metadata": {
  "kernelspec": {
   "display_name": "mtg-6Qg9UbRc-py3.12",
   "language": "python",
   "name": "python3"
  },
  "language_info": {
   "codemirror_mode": {
    "name": "ipython",
    "version": 3
   },
   "file_extension": ".py",
   "mimetype": "text/x-python",
   "name": "python",
   "nbconvert_exporter": "python",
   "pygments_lexer": "ipython3",
   "version": "3.12.2"
  }
 },
 "nbformat": 4,
 "nbformat_minor": 5
}
